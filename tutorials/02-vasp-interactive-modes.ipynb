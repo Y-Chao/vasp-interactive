{
 "cells": [
  {
   "cell_type": "markdown",
   "id": "361fc3a4-d9b1-41f5-be28-843b9c3d52ec",
   "metadata": {},
   "source": [
    "# Different modes of VaspInteractive\n",
    "In this tutorial you will see the context and classic modes of `VaspInteractive` and how they differ. \n",
    "\n",
    "We continue using the H2 example as in tutorial 01"
   ]
  },
  {
   "cell_type": "code",
   "execution_count": 2,
   "id": "e049ecf9-048c-46d0-82bb-8b2c1237ecfc",
   "metadata": {},
   "outputs": [],
   "source": [
    "%rm -rf sandbox/vpi-modes"
   ]
  },
  {
   "cell_type": "code",
   "execution_count": 3,
   "id": "69cfb80a-fe53-4930-8fd1-8ed0b94e13cc",
   "metadata": {},
   "outputs": [],
   "source": [
    "%mkdir -p sandbox/vpi-modes"
   ]
  },
  {
   "cell_type": "code",
   "execution_count": 4,
   "id": "f9549e13-e29b-444c-be1e-7485bc395b36",
   "metadata": {},
   "outputs": [
    {
     "data": {
      "text/plain": [
       "'mpirun -np 8 --map-by hwthread /opt/vasp.6.1.2_pgi_mkl_beef/bin/vasp_std'"
      ]
     },
     "execution_count": 4,
     "metadata": {},
     "output_type": "execute_result"
    }
   ],
   "source": [
    "%env VASP_COMMAND"
   ]
  },
  {
   "cell_type": "code",
   "execution_count": 6,
   "id": "0982bb4e-2fe5-4726-a68a-7814e22255d8",
   "metadata": {},
   "outputs": [
    {
     "name": "stdout",
     "output_type": "stream",
     "text": [
      "Scaled positions of H2 in the cell:\n",
      "[[0.11875 0.      0.     ]\n",
      " [0.      0.      0.     ]]\n"
     ]
    }
   ],
   "source": [
    "from ase.atoms import Atoms\n",
    "from ase.optimize import BFGS\n",
    "h2 = Atoms(\"H2\", positions=[(0.95, 0, 0), (0, 0, 0)], cell=[8, 8, 8], pbc=True)\n",
    "print(\"Scaled positions of H2 in the cell:\")\n",
    "print(h2.get_scaled_positions())"
   ]
  },
  {
   "cell_type": "code",
   "execution_count": 7,
   "id": "607cda05-265a-4aec-8a6f-989187659749",
   "metadata": {},
   "outputs": [],
   "source": [
    "from vasp_interactive import VaspInteractive\n",
    "vasp_params = dict(xc=\"pbe\", kpts=1, encut=200)\n",
    "calc = VaspInteractive(directory=\"sandbox/vpi-modes\", **vasp_params)"
   ]
  },
  {
   "cell_type": "markdown",
   "id": "7f0f3e75-035f-4bcb-b61d-3e86fe12a7ad",
   "metadata": {},
   "source": [
    "### Classical mode\n",
    "In this mode, the VASP process starts once the `calc.calculate` is invoked (e.g. `atoms.get_potential_energy()`). It needs to be stopped manually."
   ]
  },
  {
   "cell_type": "code",
   "execution_count": 11,
   "id": "6f532ddf-6b36-40bb-a419-6dc2cd112da2",
   "metadata": {},
   "outputs": [
    {
     "name": "stdout",
     "output_type": "stream",
     "text": [
      "Process is:  None\n"
     ]
    }
   ],
   "source": [
    "atoms = h2.copy()\n",
    "atoms.calc = calc\n",
    "print(\"Process is: \", calc.process)"
   ]
  },
  {
   "cell_type": "code",
   "execution_count": 13,
   "id": "d791f0e3-e478-4d3a-9a88-61795930b8c5",
   "metadata": {},
   "outputs": [
    {
     "name": "stdout",
     "output_type": "stream",
     "text": [
      "<subprocess.Popen object at 0x7f9f9e3aedc0>\n",
      "Process is still running\n"
     ]
    }
   ],
   "source": [
    "atoms.get_potential_energy()\n",
    "print(calc.process)\n",
    "if calc.process.poll() is None:\n",
    "    print(\"Process is still running\")"
   ]
  },
  {
   "cell_type": "markdown",
   "id": "b81a74a8-c197-472c-9852-c1cd5ad72820",
   "metadata": {},
   "source": [
    "Let's check the OUTCAR, it should stop at the ionic step but no fields like `Total CPU time` is shown"
   ]
  },
  {
   "cell_type": "code",
   "execution_count": 19,
   "id": "830a7d61-8f10-43b1-b7ea-ad1019a40f63",
   "metadata": {},
   "outputs": [
    {
     "name": "stdout",
     "output_type": "stream",
     "text": [
      "\n",
      "\n",
      "\n",
      "  FREE ENERGIE OF THE ION-ELECTRON SYSTEM (eV)\n",
      "  ---------------------------------------------------\n",
      "  free  energy   TOTEN  =        -6.19701990 eV\n",
      "\n",
      "  energy  without entropy=       -6.20861571  energy(sigma->0) =       -6.20088517\n",
      " \n",
      "\n",
      "\n",
      "--------------------------------------------------------------------------------------------------------\n",
      "\n",
      "\n",
      "    POTLOK:  cpu time    0.0182: real time    0.0182\n",
      "\n",
      "\n",
      "--------------------------------------------------------------------------------------------------------\n",
      "\n",
      "\n"
     ]
    }
   ],
   "source": [
    "%%bash\n",
    "tail -20 sandbox/vpi-modes/OUTCAR"
   ]
  },
  {
   "cell_type": "markdown",
   "id": "ade22577-ae4d-4fa0-9773-f320faa91b17",
   "metadata": {},
   "source": [
    "Change the atoms positions and redo calculation"
   ]
  },
  {
   "cell_type": "code",
   "execution_count": 21,
   "id": "12642847-07ca-4d59-8210-f541a61c352f",
   "metadata": {},
   "outputs": [
    {
     "data": {
      "text/plain": [
       "<subprocess.Popen at 0x7f9f9e3aedc0>"
      ]
     },
     "execution_count": 21,
     "metadata": {},
     "output_type": "execute_result"
    }
   ],
   "source": [
    "atoms.rattle()\n",
    "atoms.get_potential_energy()\n",
    "calc.process"
   ]
  },
  {
   "cell_type": "markdown",
   "id": "7b25e626-7995-49af-8dde-a958fe9957f6",
   "metadata": {},
   "source": [
    "assume we've finished relaxation, manually close the process, but results still stored on calculator"
   ]
  },
  {
   "cell_type": "code",
   "execution_count": 24,
   "id": "296167dc-0bce-4306-81cf-9363c16563ec",
   "metadata": {},
   "outputs": [
    {
     "name": "stdout",
     "output_type": "stream",
     "text": [
      "None\n",
      "-6.20829497\n"
     ]
    }
   ],
   "source": [
    "calc.finalize()\n",
    "print(calc.process)\n",
    "print(calc.get_potential_energy())"
   ]
  },
  {
   "cell_type": "markdown",
   "id": "d943a578-c999-44be-9a69-f8eba5bdac03",
   "metadata": {},
   "source": [
    "### Context mode\n",
    "Basically just use a with-clause to wrap the VaspInteractive region. Once outside it the process is automatically cleaned up"
   ]
  },
  {
   "cell_type": "code",
   "execution_count": 26,
   "id": "d7a4bee4-1791-4115-8fd7-194b18915ef1",
   "metadata": {},
   "outputs": [
    {
     "name": "stdout",
     "output_type": "stream",
     "text": [
      "-6.20459881\n",
      "-6.20827522\n",
      "-6.2119499\n"
     ]
    }
   ],
   "source": [
    "atoms = h2.copy()\n",
    "with calc:\n",
    "    atoms.calc = calc\n",
    "    for i in range(3):\n",
    "        atoms.rattle()\n",
    "        print(atoms.get_potential_energy())"
   ]
  },
  {
   "cell_type": "code",
   "execution_count": 28,
   "id": "eb67dede-ab40-47c7-8e46-9c6cb510682e",
   "metadata": {},
   "outputs": [
    {
     "name": "stdout",
     "output_type": "stream",
     "text": [
      "None\n"
     ]
    }
   ],
   "source": [
    "print(calc.process)"
   ]
  },
  {
   "cell_type": "code",
   "execution_count": null,
   "id": "ce0409fe-4bec-4d2c-be8d-9def1054ca9e",
   "metadata": {},
   "outputs": [],
   "source": []
  }
 ],
 "metadata": {
  "kernelspec": {
   "display_name": "Python 3 (ipykernel)",
   "language": "python",
   "name": "python3"
  },
  "language_info": {
   "codemirror_mode": {
    "name": "ipython",
    "version": 3
   },
   "file_extension": ".py",
   "mimetype": "text/x-python",
   "name": "python",
   "nbconvert_exporter": "python",
   "pygments_lexer": "ipython3",
   "version": "3.8.10"
  }
 },
 "nbformat": 4,
 "nbformat_minor": 5
}
