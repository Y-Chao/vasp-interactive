{
 "cells": [
  {
   "cell_type": "markdown",
   "id": "460d9db2-56b8-4f0b-8362-d5db99b7e0c3",
   "metadata": {},
   "source": [
    "# Interactive demo of vasp \n",
    "This tutorial writes vasp interactive mode input files and let user play with them in the terminal"
   ]
  },
  {
   "cell_type": "code",
   "execution_count": 1,
   "id": "a7c7a931-1074-4ad6-823c-b353e3beac5f",
   "metadata": {},
   "outputs": [],
   "source": [
    "%rm -rf sandbox/interactive-demo"
   ]
  },
  {
   "cell_type": "code",
   "execution_count": 2,
   "id": "1e84b21e-f48c-4d3b-80a5-8e891fea8f1a",
   "metadata": {},
   "outputs": [],
   "source": [
    "%mkdir -p sandbox/interactive-demo"
   ]
  },
  {
   "cell_type": "code",
   "execution_count": 8,
   "id": "bc85457c-9dda-4351-abab-01e9bfd38705",
   "metadata": {},
   "outputs": [
    {
     "data": {
      "text/plain": [
       "'mpirun -np 8 --map-by hwthread /opt/vasp.6.1.2_pgi_mkl_beef/bin/vasp_std'"
      ]
     },
     "execution_count": 8,
     "metadata": {},
     "output_type": "execute_result"
    }
   ],
   "source": [
    "%env VASP_COMMAND"
   ]
  },
  {
   "cell_type": "code",
   "execution_count": 4,
   "id": "a4e4e24c-86b2-4b8c-9331-96d525934777",
   "metadata": {},
   "outputs": [
    {
     "name": "stdout",
     "output_type": "stream",
     "text": [
      "Scaled positions of H2 in the cell:\n",
      "[[0.11875 0.      0.     ]\n",
      " [0.      0.      0.     ]]\n"
     ]
    }
   ],
   "source": [
    "from ase.atoms import Atoms\n",
    "from ase.calculators.vasp import Vasp\n",
    "h2 = Atoms(\"H2\", positions=[(0.95, 0, 0), (0, 0, 0)], cell=[8, 8, 8], pbc=True)\n",
    "print(\"Scaled positions of H2 in the cell:\")\n",
    "print(h2.get_scaled_positions())"
   ]
  },
  {
   "cell_type": "markdown",
   "id": "bcee2a70-b346-43e0-b593-6bddb5823eae",
   "metadata": {},
   "source": [
    "Now create a interactive mode INCAR file with keyword `INTERACTIVE = .TRUE.`\n",
    "\n",
    "This INCAR setting allows running dynamics with interactive mode, or internally `IBRION = 11`"
   ]
  },
  {
   "cell_type": "code",
   "execution_count": 19,
   "id": "99c83d27-ee62-48bd-b2a0-fc58aae813a8",
   "metadata": {},
   "outputs": [],
   "source": [
    "calc = Vasp(xc=\"pbe\", \n",
    "            kpts=1, \n",
    "            encut=200, \n",
    "            interactive=True, \n",
    "            nsw=100,\n",
    "            ediffg=-0.01,\n",
    "            ibrion=-1,\n",
    "            directory=\"sandbox/interactive-demo\")\n",
    "calc.write_input(h2)"
   ]
  },
  {
   "cell_type": "code",
   "execution_count": 20,
   "id": "ee8a9390-d7b9-4500-8253-fc557dd2fca5",
   "metadata": {},
   "outputs": [
    {
     "name": "stdout",
     "output_type": "stream",
     "text": [
      "INCAR created by Atomic Simulation Environment\n",
      " ENCUT = 200.000000\n",
      " EDIFFG = -1.00e-02\n",
      " GGA = PE\n",
      " IBRION = -1\n",
      " NSW = 100\n",
      " INTERACTIVE = .TRUE.\n"
     ]
    }
   ],
   "source": [
    "%cat \"sandbox/interactive-demo/INCAR\""
   ]
  },
  {
   "cell_type": "markdown",
   "id": "1ca8cc1a-0a4b-4623-827e-a5dd833d7036",
   "metadata": {},
   "source": [
    "Let's switch to the terminal now. You should `cd` into the following path and run `$VASP_COMMAND`"
   ]
  },
  {
   "cell_type": "code",
   "execution_count": 15,
   "id": "db3e9610-38f6-467b-a0c3-79f7bf3dd39b",
   "metadata": {},
   "outputs": [
    {
     "name": "stdout",
     "output_type": "stream",
     "text": [
      "/home/jovyan/data/vasp-interactive-test/tutorials/sandbox/interactive-demo\n"
     ]
    }
   ],
   "source": [
    "%%bash\n",
    "realpath  \"sandbox/interactive-demo/\""
   ]
  },
  {
   "cell_type": "markdown",
   "id": "122c027b-db03-4b5c-8c61-ba82db454000",
   "metadata": {},
   "source": [
    "Observations?\n",
    "- Even if `IBRION = -1` it can still run dynamic jobs\n",
    "- `EDIFFG` not really effective\n",
    "- VASP treats each ionic step as if started from scratch (see `dE` value)"
   ]
  }
 ],
 "metadata": {
  "kernelspec": {
   "display_name": "Python 3 (ipykernel)",
   "language": "python",
   "name": "python3"
  },
  "language_info": {
   "codemirror_mode": {
    "name": "ipython",
    "version": 3
   },
   "file_extension": ".py",
   "mimetype": "text/x-python",
   "name": "python",
   "nbconvert_exporter": "python",
   "pygments_lexer": "ipython3",
   "version": "3.8.10"
  }
 },
 "nbformat": 4,
 "nbformat_minor": 5
}
